{
 "cells": [
  {
   "cell_type": "code",
   "execution_count": 219,
   "metadata": {},
   "outputs": [],
   "source": [
    "import numpy as np\n",
    "from numpy.linalg import norm\n",
    "from math import sin, cos, pi, asin, atan2, degrees\n",
    "from tabulate import tabulate\n",
    "\n",
    "np.set_printoptions(suppress=True,precision=11)"
   ]
  },
  {
   "cell_type": "code",
   "execution_count": 204,
   "metadata": {},
   "outputs": [],
   "source": [
    "def wedge(v):\n",
    "    return np.matrix([[0, -v[2], v[1]],\n",
    "                     [v[2], 0,  -v[0]],\n",
    "                     [-v[1], v[0], 0]]);\n",
    "\n",
    "def get_rotation_rodriguez(v, theta=None):\n",
    "    if theta is None:\n",
    "        theta = norm(v); \n",
    "        n = v/theta; \n",
    "    else: \n",
    "        n = v; \n",
    "        \n",
    "    cM = wedge(n); \n",
    "    return np.identity(3) + sin(theta)*cM + (1-cos(theta))*cM*cM\n",
    "\n",
    "def rotx(phi):\n",
    "    v = phi*np.array([1, 0, 0]); \n",
    "    return get_rotation_rodriguez(v)\n",
    "\n",
    "def roty(theta):\n",
    "    v = theta*np.array([0, 1, 0]); \n",
    "    return get_rotation_rodriguez(v)\n",
    "\n",
    "def rotz(psi):\n",
    "    v = psi*np.array([0, 0, 1]); \n",
    "    return get_rotation_rodriguez(v) \n",
    "\n",
    "def angles2rot(phi, theta, psi): \n",
    "    return rotz(psi)*roty(theta)*rotx(phi)\n",
    "\n",
    "def rot2angles(M):\n",
    "    sin_theta = -M[2, 0];     \n",
    "    theta = asin(sin_theta);     \n",
    "    \n",
    "    if sin_theta==1:\n",
    "        psi = 0; # arbitrary\n",
    "        phi = atan2(M[0,1],M[0,2]);     \n",
    "    elif sin_theta==-1:\n",
    "        psi = 0; # arbitrary\n",
    "        phi = atan2(-M[0,1],-M[0,2]);        \n",
    "    else:\n",
    "        # another valid solution: pi-theta.             \n",
    "        cos_theta = cos(theta); \n",
    "        phi = atan2(M[2,1]/cos_theta, M[2, 2]/cos_theta);\n",
    "        psi = atan2(M[1,0]/cos_theta, M[0, 0]/cos_theta);\n",
    "    \n",
    "    return phi, theta, psi\n",
    "    \n",
    "def rigid_transform3(trans, rot): \n",
    "    M = np.identity(4)\n",
    "    M[0:3,0:3] = rot\n",
    "    M[0:3,3] = trans\n",
    "    return M\n",
    "#    return np.concatenate((np.concatenate((rot, trans), axis=1), \n",
    "#                           np.concatenate((np.zeros((1, 3)), np.mat([[1]])), axis=1)), axis=0)"
   ]
  },
  {
   "cell_type": "code",
   "execution_count": 139,
   "metadata": {},
   "outputs": [
    {
     "name": "stdout",
     "output_type": "stream",
     "text": [
      "phi,theta,psi = [0.7853981633974483, 0.6283185307179586, 0.4487989505128276]\n",
      "\n",
      "angles2rot: \n",
      "[[ 0.72889912554  0.06766479742  0.68126906578]\n",
      " [ 0.35101931853  0.81741496597 -0.45674742629]\n",
      " [-0.58778525229  0.57206140282  0.57206140282]]\n",
      "\n",
      "rot2angles: \n",
      "(0.7853981633974483, 0.6283185307179586, 0.4487989505128276)\n"
     ]
    }
   ],
   "source": [
    "# print('rotx=')\n",
    "# print(rotx(pi/2))\n",
    "# print(3*'\\n' + 'roty=')\n",
    "# print(roty(pi/2))\n",
    "# print(3*'\\n' + 'rotz=')\n",
    "# print(rotz(pi/2))\n",
    "\n",
    "print('phi,theta,psi = ' + str([pi/4, pi/5, pi/7]))\n",
    "print('\\nangles2rot: \\n' + str(angles2rot(phi=pi/4, theta=pi/5, psi=pi/7)))\n",
    "print('\\nrot2angles: \\n' + str(rot2angles(angles2rot(phi=pi/4, theta=pi/5, psi=pi/7))))\n",
    "phi, theta, psi = rot2angles(angles2rot(phi=pi/4, theta=pi/5, psi=pi/7))\n",
    "#print(angles2rot(phi, theta, psi))\n",
    "#print(rot2angles(angles2rot(phi, theta, psi)))\n",
    "#print(angles2rot(phi, theta, psi))\n"
   ]
  },
  {
   "cell_type": "code",
   "execution_count": 159,
   "metadata": {},
   "outputs": [
    {
     "name": "stdout",
     "output_type": "stream",
     "text": [
      "9.999999994217536 19.999999980143038 29.99999998990158\n"
     ]
    }
   ],
   "source": [
    "phi, theta, psi = (degrees(x) for x in rot2angles(\n",
    "    np.mat(' 0.813797681 -0.440969611 0.378522306;  \\\n",
    "                           0.46984631   0.882564119 0.0180283112; \\\n",
    "                          -0.342020143  0.163175911 0.925416578')))\n",
    "print(phi, theta, psi)"
   ]
  },
  {
   "cell_type": "code",
   "execution_count": 221,
   "metadata": {},
   "outputs": [
    {
     "name": "stdout",
     "output_type": "stream",
     "text": [
      "[[-451.2459  257.0322  400.    ]]\n",
      "[[ 0.5363 -0.844   0.    ]\n",
      " [ 0.844   0.5363  0.    ]\n",
      " [ 0.      0.      1.    ]]\n",
      "[ 1030.1809  -422.3122  -350.         1.    ]\n",
      "\\begin{tabular}{rrrr}\n",
      "\\hline\n",
      "  0.5363 & 0.844  & 0 &  451.246 \\\\\n",
      " -0.844  & 0.5363 & 0 & -257.032 \\\\\n",
      "  0      & 0      & 1 & -400     \\\\\n",
      "  0      & 0      & 0 &    1     \\\\\n",
      "\\hline\n",
      "\\end{tabular}\n"
     ]
    }
   ],
   "source": [
    "trans = np.mat([-451.2459, 257.0322, 400])\n",
    "rot = np.mat('0.5363 -0.8440 0; 0.8440 0.5363 0; 0 0 1'); \n",
    "\n",
    "pt = [450, 400, 50, 1]\n",
    "\n",
    "print(trans)\n",
    "print(rot)\n",
    "\n",
    "Tgl = rigid_transform3(-trans, rot.transpose()); \n",
    "print(Tgl.dot(pt))\n",
    "#print(tabulate(Tgl, tablefmt=\"latex\", floatfmt=\".2f\"))\n",
    "print(tabulate(Tgl, tablefmt=\"latex\"))"
   ]
  },
  {
   "cell_type": "code",
   "execution_count": null,
   "metadata": {
    "collapsed": true
   },
   "outputs": [],
   "source": []
  }
 ],
 "metadata": {
  "kernelspec": {
   "display_name": "Python 3",
   "language": "python",
   "name": "python3"
  },
  "language_info": {
   "codemirror_mode": {
    "name": "ipython",
    "version": 3
   },
   "file_extension": ".py",
   "mimetype": "text/x-python",
   "name": "python",
   "nbconvert_exporter": "python",
   "pygments_lexer": "ipython3",
   "version": "3.5.2"
  }
 },
 "nbformat": 4,
 "nbformat_minor": 2
}
